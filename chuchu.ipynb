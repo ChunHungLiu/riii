{
 "cells": [
  {
   "cell_type": "code",
   "execution_count": 28,
   "metadata": {
    "collapsed": false
   },
   "outputs": [],
   "source": [
    "import requests\n",
    "import json\n",
    "FBID = ''\n",
    "FBSECRET = ''\n",
    "ACCESSTOKEN = '{}|{}'.format(FBID, FBSECRET)\n",
    "res = requests.get('https://graph.facebook.com/v2.4/ChuChuPepper/posts?access_token={}&format=json&limit=100&method=get'.format(ACCESSTOKEN))\n",
    "jd = json.loads(res.text)\n",
    "ary = []\n",
    "for entry in jd['data']:\n",
    "    if 'message' in entry:\n",
    "        ary.append(entry['message'])\n",
    "#print jd['paging']['next']\n",
    "while  'paging' in jd and 'next' in jd['paging']:\n",
    "    next_url = jd['paging']['next']\n",
    "    res_next = requests.get(next_url)\n",
    "    jd = json.loads(res_next.text)\n",
    "    \n",
    "    for entry in jd['data']:\n",
    "        if 'message' in entry:\n",
    "            ary.append(entry['message'])\n",
    "    \n",
    "        \n",
    "#jd['data']['message']\n"
   ]
  },
  {
   "cell_type": "code",
   "execution_count": 49,
   "metadata": {
    "collapsed": false,
    "scrolled": false
   },
   "outputs": [],
   "source": [
    "import jieba\n",
    "jieba.add_word('意義')\n",
    "jieba.add_word('民進黨')\n",
    "jieba.add_word('蔡英文')\n",
    "jieba.add_word('兩岸關係')\n",
    "#print ' ' .join(jieba.cut('今天我專程南下參加一個非常有意義的活動'))\n",
    "\n",
    "dic_word = {}\n",
    "for entry in ary:\n",
    "    for w in ' ' .join(jieba.cut(entry)).split():\n",
    "        if w not in dic_word:\n",
    "            if len(w) >=2 :\n",
    "                dic_word[w] = 1\n",
    "        else:\n",
    "            dic_word[w] = dic_word[w] + 1"
   ]
  },
  {
   "cell_type": "code",
   "execution_count": 50,
   "metadata": {
    "collapsed": false
   },
   "outputs": [],
   "source": [
    "import operator\n",
    "sorted_x = sorted(dic_word.items(), key=operator.itemgetter(1), reverse=True)\n"
   ]
  },
  {
   "cell_type": "code",
   "execution_count": 51,
   "metadata": {
    "collapsed": false
   },
   "outputs": [
    {
     "name": "stdout",
     "output_type": "stream",
     "text": [
      "我們 1055\n",
      "洪秀柱 492\n",
      "柱柱姐 399\n",
      "台灣 396\n",
      "大家 382\n",
      "國家 328\n",
      "兩岸 272\n",
      "社會 255\n",
      "一個 254\n",
      "一起 254\n",
      "朋友 244\n",
      "希望 231\n",
      "可以 224\n",
      "政治 218\n",
      "支持 214\n",
      "問題 207\n",
      "未來 195\n",
      "就是 193\n",
      "這個 189\n",
      "自己 187\n",
      "人民 183\n",
      "主席 176\n",
      "和平 175\n",
      "蔡英文 174\n",
      "總統 173\n",
      "如果 173\n",
      "民進黨 173\n",
      "道路 169\n",
      "沒有 168\n",
      "柱姐 167\n",
      "00 166\n",
      "中華民國 156\n",
      "政策 154\n",
      "發展 153\n",
      "http 147\n",
      "國民黨 146\n",
      "他們 145\n",
      "因為 144\n",
      "不是 143\n",
      "政府 142\n",
      "參選 136\n",
      "一定 136\n",
      "改變 134\n",
      "今天 133\n",
      "但是 133\n",
      "所有 130\n",
      "努力 119\n",
      "經濟 118\n",
      "不要 117\n",
      "這些 115\n",
      "需要 111\n",
      "各位 111\n",
      "必須 111\n",
      "連署 111\n",
      "柱柱 111\n",
      "一條 110\n",
      "捐款 107\n",
      "認為 107\n",
      "共同 102\n",
      "主張 99\n",
      "能夠 98\n",
      "不能 97\n",
      "選舉 96\n",
      "力量 95\n",
      "中國 94\n",
      "才能 92\n",
      "https 92\n",
      "許多 92\n",
      "看到 91\n",
      "國際 91\n",
      "感謝 91\n",
      "開放 91\n",
      "民主 90\n",
      "重要 90\n",
      "謝謝 90\n",
      "堅持 89\n",
      "30 89\n",
      "提出 87\n",
      "孩子 87\n",
      "這樣 87\n",
      "兩岸關係 84\n",
      "什麼 84\n",
      "相信 84\n",
      "時間 83\n",
      "10 83\n",
      "這是 82\n",
      "青年 82\n",
      "歷史 80\n",
      "以及 79\n",
      "分享 77\n",
      "是否 77\n",
      "只有 76\n",
      "接受 76\n",
      "提供 76\n",
      "TheWay 75\n",
      "民粹 75\n",
      "地點 74\n",
      "共識 74\n",
      "com 74\n",
      "價值 74\n"
     ]
    }
   ],
   "source": [
    "for ele in sorted_x[0:100]:\n",
    "    print ele[0], ele[1]"
   ]
  },
  {
   "cell_type": "code",
   "execution_count": null,
   "metadata": {
    "collapsed": true
   },
   "outputs": [],
   "source": []
  }
 ],
 "metadata": {
  "kernelspec": {
   "display_name": "Python 2",
   "language": "python",
   "name": "python2"
  },
  "language_info": {
   "codemirror_mode": {
    "name": "ipython",
    "version": 2
   },
   "file_extension": ".py",
   "mimetype": "text/x-python",
   "name": "python",
   "nbconvert_exporter": "python",
   "pygments_lexer": "ipython2",
   "version": "2.7.10"
  }
 },
 "nbformat": 4,
 "nbformat_minor": 0
}
